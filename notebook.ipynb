{
  "cells": [
    {
      "metadata": {
        "_cell_guid": "29a28726-3f26-4ebd-95ed-c50108ef1c1a",
        "collapsed": true,
        "_uuid": "efc954a259cb5e0f7cfbd33a5173b0b76b7ca54d",
        "trusted": false
      },
      "cell_type": "code",
      "source": "import pandas as pd\nimport matplotlib.pyplot as plt\nimport seaborn as sns\nimport numpy as np\n%matplotlib inline",
      "execution_count": null,
      "outputs": []
    },
    {
      "metadata": {
        "_cell_guid": "bcfa7fb9-c189-421d-83d2-6869859d51bf",
        "collapsed": true,
        "_uuid": "c68b87a02d2281c606dc53259b3c81fb8d1a52b4",
        "trusted": false
      },
      "cell_type": "code",
      "source": "df = pd.read_csv( '../input/train.tsv', delimiter='\\t' )\ndf.head()",
      "execution_count": null,
      "outputs": []
    },
    {
      "metadata": {
        "_cell_guid": "f2de76f6-cb64-4d86-86df-3b1cd517b5a4",
        "collapsed": true,
        "_uuid": "396b091c943628cbe9a0068c7a0c712ae61acd00",
        "trusted": false
      },
      "cell_type": "code",
      "source": "# NaNを文字列に変換\ndf = df.replace(np.nan, 'NaN')\n# data.fillna('NaN')",
      "execution_count": null,
      "outputs": []
    },
    {
      "metadata": {
        "_cell_guid": "8144d2cb-4b57-4a97-b890-1f36b5c7c425",
        "scrolled": true,
        "collapsed": true,
        "_uuid": "5297c0588a7cd3fb0ec15676c9d380d17b35abdc",
        "trusted": false
      },
      "cell_type": "code",
      "source": "df.columns",
      "execution_count": null,
      "outputs": []
    },
    {
      "metadata": {
        "_cell_guid": "2e5008cc-2343-489f-83be-849a45e8baa2",
        "collapsed": true,
        "_uuid": "51c62882d561f5cd366537e0d06512eaa5dd0d06",
        "trusted": false
      },
      "cell_type": "code",
      "source": "# ブランドの種類\nlen(df.brand_name.unique())",
      "execution_count": null,
      "outputs": []
    },
    {
      "metadata": {
        "_cell_guid": "1beba532-6a13-4fbb-a1d6-52f3e1df9273",
        "collapsed": true,
        "_uuid": "eea186f8d25d65163ee1c42611d8c180de6ab81f",
        "trusted": false
      },
      "cell_type": "code",
      "source": "# カテゴリの種類\nlen(df.category_name.unique())",
      "execution_count": null,
      "outputs": []
    },
    {
      "metadata": {
        "_cell_guid": "e99125cc-4b80-4196-a7a0-734f2423f497",
        "collapsed": true,
        "_uuid": "76148202486e4680deb8dadad6fb828a1ac99a2f",
        "trusted": false
      },
      "cell_type": "code",
      "source": "# コンディションの種類\ndf.item_condition_id.unique()",
      "execution_count": null,
      "outputs": []
    },
    {
      "metadata": {
        "_cell_guid": "2095d78a-33a4-43a3-9444-cc40ca244e32",
        "collapsed": true,
        "_uuid": "d51f3ecbbbdc3894c74a69a40ed8cdd989394622",
        "trusted": false
      },
      "cell_type": "code",
      "source": "import matplotlib\nf,ax = plt.subplots(1,1,figsize=(15,20))\nhist = df.groupby(['category_name'],as_index=False).count().sort_values(by='train_id',ascending=False)[0:25]\nsns.barplot(y=hist['category_name'],x=hist['train_id'],orient='h')\nmatplotlib.rcParams.update({'font.size': 30})\nplt.show()",
      "execution_count": null,
      "outputs": []
    },
    {
      "metadata": {
        "_cell_guid": "ad4ccf61-816f-48d5-80c4-8701bcfe36fe",
        "collapsed": true,
        "_uuid": "304f7797682c5df1a2dfb4338ba6e75b0538d87e",
        "trusted": false
      },
      "cell_type": "code",
      "source": "# 全カテゴリー名を格納\ncategory_name_list = []\n\nfor categorys_name in df['category_name']:\n    category_names = categorys_name.split('/')\n    \n    #category_names.extend(['NaN'] * (3 - len(category_names)))\n    category_name_list.append(category_names)\n\nlen(category_name_list)",
      "execution_count": null,
      "outputs": []
    },
    {
      "metadata": {
        "_cell_guid": "26e58ba8-bd2e-48a7-abf8-d510af170c2a",
        "collapsed": true,
        "_uuid": "d01b1f4a550d2675dc41692e9d5b49cf6d6e2866",
        "trusted": false
      },
      "cell_type": "code",
      "source": "# カテゴリーリスト\ncategory_name_list",
      "execution_count": null,
      "outputs": []
    },
    {
      "metadata": {
        "_cell_guid": "8a0b5301-1dac-4167-8d78-9ecff90aa9de",
        "collapsed": true,
        "_uuid": "1e1c5be86affcda33dc8a531afb027713319b4ba",
        "trusted": false
      },
      "cell_type": "code",
      "source": "df_category_list = pd.DataFrame(category_name_list)\ndf['category_0'] = df_category_list[0]\ndf['category_1'] = df_category_list[1]\ndf['category_2'] = df_category_list[2]",
      "execution_count": null,
      "outputs": []
    },
    {
      "metadata": {
        "_cell_guid": "f24db6fc-84c0-437d-acc0-b2f34ee9e484",
        "collapsed": true,
        "_uuid": "1fb249ff0d2fd77c1da9388b3d2ec73c100832a9",
        "trusted": false
      },
      "cell_type": "code",
      "source": "# 元をコピー\ndfe = df\n\n# 変換\ndfe['name'], _ = pd.factorize(df['name'])\ndfe['brand_name'], _ = pd.factorize(df['brand_name'])\ndfe['category_0'], _ = pd.factorize(df['category_0'])\ndfe['category_1'], _ = pd.factorize(df['category_1'])\ndfe['category_2'], _ = pd.factorize(df['category_2'])\n\ndfe.drop(['train_id', 'category_name', 'item_description'], axis=1, inplace=True)",
      "execution_count": null,
      "outputs": []
    },
    {
      "metadata": {
        "_cell_guid": "e4a5da0d-6d37-432d-b65e-5ec176de6856",
        "collapsed": true,
        "_uuid": "71c04bd6ecc7300d2a24fab04c56f4514596d227",
        "trusted": false
      },
      "cell_type": "code",
      "source": "dfe",
      "execution_count": null,
      "outputs": []
    },
    {
      "metadata": {
        "_cell_guid": "4a8d6385-25ac-47d1-97c5-97f3c9ae99ee",
        "_uuid": "77c39680d72ab74f64138e6eaa5511cb9028043f"
      },
      "cell_type": "markdown",
      "source": "## 解析"
    },
    {
      "metadata": {
        "_cell_guid": "a1cbbc2a-48a5-4bb0-9ad5-4bb68e063686",
        "collapsed": true,
        "_uuid": "991502c65102e23574b61f8d25dd4c7fccd0fd64",
        "trusted": false
      },
      "cell_type": "code",
      "source": "#相関係数を算出\ncorrmat = dfe.corr()\ncorrmat",
      "execution_count": null,
      "outputs": []
    },
    {
      "metadata": {
        "_cell_guid": "b3cc9a00-ce60-4d16-8e50-f13e634fdd3c",
        "collapsed": true,
        "_uuid": "ff75acabe8447d0d73c7789ccd264981a0c9e4dd",
        "trusted": false
      },
      "cell_type": "code",
      "source": "f, ax = plt.subplots(figsize=(12,9))\nsns.heatmap(corrmat, vmax=.8, square=True)",
      "execution_count": null,
      "outputs": []
    },
    {
      "metadata": {
        "_cell_guid": "4ef242cc-0bc4-47b8-9cf2-84e06c294a10",
        "_uuid": "c117d1e4adac54d2aa7c15afa3295da48caefbcd"
      },
      "cell_type": "markdown",
      "source": "## 推測"
    },
    {
      "metadata": {
        "_cell_guid": "6bded52d-897a-4a30-a91e-ff8d93da0180",
        "collapsed": true,
        "_uuid": "641bbbd2c97449e71e3c474a6e8948a1fb2a98ba",
        "trusted": false
      },
      "cell_type": "code",
      "source": "import numpy as np\nimport matplotlib.pyplot as plt\nfrom sklearn import svm",
      "execution_count": null,
      "outputs": []
    },
    {
      "metadata": {
        "_cell_guid": "8b032965-b714-4c10-85fd-eba847a4af01",
        "collapsed": true,
        "_uuid": "aad211870371bc6ca7d58dea6318bc43ce43b585",
        "trusted": false
      },
      "cell_type": "code",
      "source": "# 引数の取得\ntarget = dfe['price']\ndata = dfe\ndata.drop('price', axis=1, inplace=True)\ndata_names = data.columns\n\n# DataFrame型から整数値のArray型にする\ndata_list = data.values.astype(np.int64)\ntarget_list = target.values.astype(np.int64)",
      "execution_count": null,
      "outputs": []
    },
    {
      "metadata": {
        "_cell_guid": "7c9b4a22-da9b-4221-9758-4e2764ec8755",
        "collapsed": true,
        "_uuid": "5bc748140c05bc53238a287e0adb5fe0f4fa9dcc",
        "trusted": false
      },
      "cell_type": "code",
      "source": "from sklearn import linear_model\nclf = linear_model.LinearRegression()\n \n# 説明変数に \nX = data_list\n \n# 目的変数に \nY = target_list\n \n# 予測モデルを作成\nclf.fit(X, Y)\n \n# 偏回帰係数\nprint(pd.DataFrame({\"Name\":data_names,\n                    \"Coefficients\":clf.coef_}).sort_values(by='Coefficients') )\n \n# 切片 (誤差)\nprint(clf.intercept_)\n\nprint(clf.coef_)",
      "execution_count": null,
      "outputs": []
    },
    {
      "metadata": {
        "_cell_guid": "722f9a4a-29d8-4a6f-87df-63cabedc39f6",
        "_uuid": "639b039750947bf63c8f3ba305c2c045fcbb87f2"
      },
      "cell_type": "markdown",
      "source": "# 結果確認"
    },
    {
      "metadata": {
        "_cell_guid": "ae6ed704-c261-40e3-8d39-f2f4e8ab911b",
        "collapsed": true,
        "_uuid": "2e3df86af8ab2e96ddac5b65075fd0b9466aebc4",
        "trusted": false
      },
      "cell_type": "code",
      "source": "# 結果確認\nfrom sklearn.metrics import mean_squared_error\n\ny_true = target_list\ny_pred = clf.predict(X)\nnp.sqrt(mean_squared_error(y_true, y_pred))",
      "execution_count": null,
      "outputs": []
    },
    {
      "metadata": {
        "_cell_guid": "9e1fc6c9-708b-4ad3-a4bc-3932d3e56429",
        "collapsed": true,
        "_uuid": "4b4a141c4ea78355262dce3455403cc5ff661b43",
        "trusted": false
      },
      "cell_type": "code",
      "source": "",
      "execution_count": null,
      "outputs": []
    },
    {
      "metadata": {
        "_cell_guid": "c62e8cd4-4d97-49e3-9769-f0ad436b2e74",
        "_uuid": "ee7d013292d73f38b2bc8dcdec8e3768750a1f61"
      },
      "cell_type": "markdown",
      "source": "# テスト"
    },
    {
      "metadata": {
        "_cell_guid": "f39328bc-f4c3-413a-8653-ee2edda735e1",
        "collapsed": true,
        "_uuid": "551d0ce8e5376c4dda524dfbdebf14a677f322a0",
        "trusted": false
      },
      "cell_type": "code",
      "source": "df = pd.read_csv('../input/test.tsv', delimiter='\\t' )\ndf = df.replace(np.nan, 'NaN')\n\n#test_idは後で使うのでとっておく\nresult = df['test_id']\n\n# 全カテゴリー名を格納\ncategory_name_list = []\nfor categorys_name in df['category_name']:\n    category_names = categorys_name.split('/')\n    category_name_list.append(category_names)\n\n# dfに追加\ndf_category_list = pd.DataFrame(category_name_list)\ndf['category_0'] = df_category_list[0]\ndf['category_1'] = df_category_list[1]\ndf['category_2'] = df_category_list[2]\n\n# 元をコピー\ndft = df\n\n# arrayからpandas型に変換\ndft['name'], _ = pd.factorize(df['name'])\ndft['brand_name'], _ = pd.factorize(df['brand_name'])\ndft['category_0'], _ = pd.factorize(df['category_0'])\ndft['category_1'], _ = pd.factorize(df['category_1'])\ndft['category_2'], _ = pd.factorize(df['category_2'])\ndft.drop(['test_id', 'category_name', 'item_description'], axis=1, inplace=True)\n\n",
      "execution_count": null,
      "outputs": []
    },
    {
      "metadata": {
        "_cell_guid": "8230dc7f-3dd8-4dc6-95e7-9a53279fb383",
        "collapsed": true,
        "_uuid": "4b71c763194721f824d2e5467d3b297d8a10899b",
        "trusted": false
      },
      "cell_type": "code",
      "source": "",
      "execution_count": null,
      "outputs": []
    },
    {
      "metadata": {
        "_cell_guid": "18c6750d-7ab6-415d-a6c7-b1542f7256d1",
        "scrolled": true,
        "collapsed": true,
        "_uuid": "0c229cb55f0e01b47f82f7a4986ab708e07efac5",
        "trusted": false
      },
      "cell_type": "code",
      "source": "# 重回帰\nfrom sklearn import linear_model\n\nclf.predict(dft)",
      "execution_count": null,
      "outputs": []
    },
    {
      "metadata": {
        "_cell_guid": "67000c0b-35b7-452d-81e7-a39a2872d8b9",
        "collapsed": true,
        "_uuid": "795fec495df83407dccbad48cf3620801ebb4ee6",
        "trusted": false
      },
      "cell_type": "code",
      "source": "# 出力形式に整形\ndf_result = pd.DataFrame(result)\ndf_price = pd.DataFrame(clf.predict(dft))\ndf_result['price'] = df_price\n\n\ndf_result.to_csv(\"dataset.csv\",index=False)",
      "execution_count": null,
      "outputs": []
    }
  ],
  "metadata": {
    "language_info": {
      "version": "3.6.3",
      "file_extension": ".py",
      "mimetype": "text/x-python",
      "codemirror_mode": {
        "version": 3,
        "name": "ipython"
      },
      "pygments_lexer": "ipython3",
      "nbconvert_exporter": "python",
      "name": "python"
    },
    "kernelspec": {
      "display_name": "Python 3",
      "language": "python",
      "name": "python3"
    }
  },
  "nbformat": 4,
  "nbformat_minor": 1
}